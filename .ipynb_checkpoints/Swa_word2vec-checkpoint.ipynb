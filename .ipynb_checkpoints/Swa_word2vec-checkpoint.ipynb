{
 "cells": [
  {
   "cell_type": "code",
   "execution_count": null,
   "metadata": {},
   "outputs": [
    {
     "name": "stderr",
     "output_type": "stream",
     "text": [
      "Using TensorFlow backend.\n",
      "/home/eric/.local/lib/python3.6/site-packages/ipykernel_launcher.py:23: UserWarning: Update your `Dense` call to the Keras 2 API: `Dense(input_dim=823, units=100)`\n",
      "/home/eric/.local/lib/python3.6/site-packages/ipykernel_launcher.py:24: UserWarning: Update your `Dense` call to the Keras 2 API: `Dense(input_dim=100, activation=\"softmax\", units=823)`\n"
     ]
    },
    {
     "name": "stdout",
     "output_type": "stream",
     "text": [
      "_________________________________________________________________\n",
      "Layer (type)                 Output Shape              Param #   \n",
      "=================================================================\n",
      "dense_1 (Dense)              (None, 100)               82400     \n",
      "_________________________________________________________________\n",
      "dense_2 (Dense)              (None, 823)               83123     \n",
      "=================================================================\n",
      "Total params: 165,523\n",
      "Trainable params: 165,523\n",
      "Non-trainable params: 0\n",
      "_________________________________________________________________\n"
     ]
    }
   ],
   "source": [
    "import pprint\n",
    "from keras.utils.data_utils import get_file\n",
    "from keras.utils import np_utils\n",
    "from keras.preprocessing.text import Tokenizer\n",
    "from gensim.models import Word2Vec, KeyedVectors\n",
    "from keras.preprocessing.sequence import skipgrams\n",
    "from keras.models import Sequential\n",
    "from keras.layers import Dense\n",
    "\n",
    "\n",
    "sentences = [line.strip() for line in open('swahili.txt') if line != '\\n']\n",
    "\n",
    "tokenizer = Tokenizer(filters='!\"#$%&()*+,-./:;<=>?@[\\\\]^_`{|}~\\t\\n')\n",
    "tokenizer.fit_on_texts(sentences)\n",
    "corpus = tokenizer.texts_to_sequences(sentences)\n",
    "\n",
    "V = len(tokenizer.word_index) + 1\n",
    "dim = 100\n",
    "window_size = 2\n",
    "\n",
    "\n",
    "model = Sequential()\n",
    "model.add(Dense(input_dim=V, output_dim=dim))\n",
    "model.add(Dense(input_dim=dim, output_dim=V, activation='softmax'))\n",
    "\n",
    "model.compile(loss='categorical_crossentropy', optimizer='rmsprop')\n",
    "model.summary()\n",
    "\n",
    "\n",
    "def generate_data(corpus, window_size, V):\n",
    "    for words in corpus:\n",
    "        couples, labels = skipgrams(words, V, window_size, negative_samples=0, shuffle=True)\n",
    "        if couples:\n",
    "            X, y = zip(*couples)\n",
    "            X = np_utils.to_categorical(X, V)\n",
    "            y = np_utils.to_categorical(y, V)\n",
    "            yield X, y\n",
    "\n",
    "for epoch in range(1000):\n",
    "    loss = 0.\n",
    "    for x, y in generate_data(corpus, window_size, V):\n",
    "        loss += model.train_on_batch(x, y)\n",
    "\n",
    "    #print(epoch, loss)\n",
    "\n",
    "\n",
    "with open('vectors.txt', 'w') as f:\n",
    "    f.write(' '.join([str(V-1), str(dim)]))\n",
    "    f.write('\\n')\n",
    "    vectors = model.get_weights()[0]\n",
    "    for word, i in tokenizer.word_index.items():\n",
    "        f.write(word)\n",
    "        f.write(' ')\n",
    "        f.write(' '.join(map(str, list(vectors[i, :]))))\n",
    "        f.write('\\n')\n",
    "\n"
   ]
  },
  {
   "cell_type": "code",
   "execution_count": 16,
   "metadata": {
    "scrolled": true
   },
   "outputs": [
    {
     "name": "stdout",
     "output_type": "stream",
     "text": [
      "[('mihogo', 0.8438014388084412),\n",
      " ('alitembeza', 0.67585289478302),\n",
      " ('walipoteza', 0.561606764793396),\n",
      " ('biashara', 0.5053472518920898),\n",
      " ('zote', 0.4827842712402344),\n",
      " ('kusukuma', 0.4470747411251068),\n",
      " ('kuchemshwa', 0.3926873207092285),\n",
      " ('ajali', 0.372442364692688),\n",
      " ('walibakia', 0.3716486692428589),\n",
      " ('nyingine', 0.3694137930870056)]\n"
     ]
    },
    {
     "name": "stderr",
     "output_type": "stream",
     "text": [
      "/home/eric/.local/lib/python3.6/site-packages/gensim/matutils.py:737: FutureWarning: Conversion of the second argument of issubdtype from `int` to `np.signedinteger` is deprecated. In future, it will be treated as `np.int64 == np.dtype(int).type`.\n",
      "  if np.issubdtype(vec.dtype, np.int):\n"
     ]
    }
   ],
   "source": [
    "w2v = KeyedVectors.load_word2vec_format('./vectors.txt', binary=False)\n",
    "pprint.pprint(w2v.most_similar(positive=['mikate']))\n",
    "\n"
   ]
  },
  {
   "cell_type": "code",
   "execution_count": null,
   "metadata": {},
   "outputs": [],
   "source": []
  }
 ],
 "metadata": {
  "kernelspec": {
   "display_name": "Python 3",
   "language": "python",
   "name": "python3"
  },
  "language_info": {
   "codemirror_mode": {
    "name": "ipython",
    "version": 3
   },
   "file_extension": ".py",
   "mimetype": "text/x-python",
   "name": "python",
   "nbconvert_exporter": "python",
   "pygments_lexer": "ipython3",
   "version": "3.6.5"
  }
 },
 "nbformat": 4,
 "nbformat_minor": 2
}
